{
 "cells": [
  {
   "cell_type": "markdown",
   "id": "2ac981da",
   "metadata": {},
   "source": [
    "## Lists and Indexing\n",
    "\n",
    "A list is an **ordered and mutable** (changeable) collection of items in Python."
   ]
  },
  {
   "cell_type": "code",
   "execution_count": null,
   "id": "f5dae1e5",
   "metadata": {},
   "outputs": [],
   "source": [
    "# A list can hold different data types\n",
    "my_list = ['apple', 100, 3.14, True]\n",
    "print(my_list)"
   ]
  },
  {
   "cell_type": "markdown",
   "id": "39aea6e5",
   "metadata": {},
   "source": [
    "### Accessing Elements (Indexing)\n",
    "You can grab individual items from a list using their index. Indexing starts at **0** for the first item.\n",
    "\n",
    "* **Positive Indexing**: Starts from the beginning (0, 1, 2, ...).\n",
    "* **Negative Indexing**: Starts from the end (-1, -2, -3, ...).\n",
    "\n",
    "List:       ['a', 'b', 'c', 'd', 'e']\n",
    "Positive:    0    1    2    3    4\n",
    "Negative:   -5   -4   -3   -2   -1"
   ]
  },
  {
   "cell_type": "code",
   "execution_count": null,
   "id": "120cb66d",
   "metadata": {},
   "outputs": [],
   "source": [
    "fruits = ['apple', 'banana', 'cherry', 'date', 'elderberry']\n",
    "\n",
    "# Positive indexing\n",
    "print(f\"First item: {fruits[0]}\")\n",
    "print(f\"Third item: {fruits[2]}\")\n",
    "\n",
    "# Negative indexing\n",
    "print(f\"Last item: {fruits[-1]}\")\n",
    "print(f\"Third item from the end: {fruits[-3]}\")"
   ]
  },
  {
   "cell_type": "markdown",
   "id": "957e83fb",
   "metadata": {},
   "source": [
    "### Getting a Range of Elements (Slicing)\n",
    "Slicing lets you get a sub-section of a list. The syntax is `list[start:stop:step]`.\n",
    "\n",
    "* `start`: The index to begin at (**inclusive**). If omitted, starts from the beginning.\n",
    "* `stop`: The index to end before (**exclusive**). If omitted, goes to the end.\n",
    "* `step`: The interval between items. Defaults to 1."
   ]
  },
  {
   "cell_type": "code",
   "execution_count": null,
   "id": "1dce48f7",
   "metadata": {},
   "outputs": [],
   "source": [
    "numbers = [0, 1, 2, 3, 4, 5, 6, 7, 8, 9]\n",
    "\n",
    "# Get items from index 2 up to (but not including) index 5\n",
    "print(f\"numbers[2:5] -> {numbers[2:5]}\")\n",
    "\n",
    "# Get the first three items\n",
    "print(f\"numbers[:3] -> {numbers[:3]}\")\n",
    "\n",
    "# Get items from index 6 to the end\n",
    "print(f\"numbers[6:] -> {numbers[6:]}\")\n",
    "\n",
    "# Get every second item\n",
    "print(f\"numbers[::2] -> {numbers[::2]}\")\n",
    "\n",
    "# A classic trick to reverse a list\n",
    "print(f\"numbers[::-1] -> {numbers[::-1]}\")"
   ]
  },
  {
   "cell_type": "markdown",
   "id": "77765c34",
   "metadata": {},
   "source": [
    "### Modifying Lists 🔧\n",
    "\n",
    "#### Changing an Item\n",
    "Use the index to assign a new value."
   ]
  },
  {
   "cell_type": "code",
   "execution_count": null,
   "id": "e931a8e6",
   "metadata": {},
   "outputs": [],
   "source": [
    "colors = ['red', 'green', 'blue']\n",
    "print(f\"Original: {colors}\")\n",
    "colors[1] = 'yellow'\n",
    "print(f\"Modified: {colors}\")"
   ]
  },
  {
   "cell_type": "markdown",
   "id": "1cbb4656",
   "metadata": {},
   "source": [
    "#### Adding Items\n",
    "* `append(item)`: Adds an item to the **end** of the list.\n",
    "* `insert(index, item)`: Adds an item at a **specific index**."
   ]
  },
  {
   "cell_type": "code",
   "execution_count": null,
   "id": "06f1d146",
   "metadata": {},
   "outputs": [],
   "source": [
    "pets = ['cat', 'dog']\n",
    "print(f\"Original: {pets}\")\n",
    "\n",
    "# Add to the end\n",
    "pets.append('fish')\n",
    "print(f\"After append: {pets}\")\n",
    "\n",
    "# Add at a specific position\n",
    "pets.insert(1, 'hamster')\n",
    "print(f\"After insert: {pets}\")"
   ]
  },
  {
   "cell_type": "markdown",
   "id": "8c6418d1",
   "metadata": {},
   "source": [
    "#### Removing Items\n",
    "* `del list[index]`: Deletes an item by its **index**.\n",
    "* `pop(index)`: Removes and **returns** an item at an index (defaults to the last item).\n",
    "* `remove(value)`: Removes the **first occurrence** of a specific **value**."
   ]
  },
  {
   "cell_type": "code",
   "execution_count": null,
   "id": "81a28cb3",
   "metadata": {},
   "outputs": [],
   "source": [
    "items = ['a', 'b', 'c', 'd', 'b']\n",
    "print(f\"Original: {items}\")\n",
    "\n",
    "# Delete by index\n",
    "del items[0]\n",
    "print(f\"After del: {items}\")\n",
    "\n",
    "# Pop the last item\n",
    "last_item = items.pop()\n",
    "print(f\"Popped item: {last_item}, List is now: {items}\")\n",
    "\n",
    "# Remove by value\n",
    "items.remove('b')\n",
    "print(f\"After remove: {items}\")"
   ]
  },
  {
   "cell_type": "markdown",
   "id": "6d6f4f17",
   "metadata": {},
   "source": [
    "### Other Useful Methods\n",
    "\n",
    "| Method | Description | Example |\n",
    "| :--- | :--- | :--- |\n",
    "| **`len(list)`** | Get the number of items in the list. | `len([1, 2, 3])` → `3` |\n",
    "| **`.sort()`** | Sorts the list **in-place** (doesn't return a new list). | `x=[3,1,2]; x.sort()` → `x` is `[1,2,3]` |\n",
    "| **`.reverse()`** | Reverses the list **in-place**. | `x=[1,2,3]; x.reverse()` → `x` is `[3,2,1]` |\n",
    "| **`.count(value)`**| Count the number of times a value appears. | `[1,2,2,3].count(2)` → `2` |\n",
    "| **`.index(value)`**| Find the index of the first occurrence of a value. | `['a','b','c'].index('b')` → `1` |"
   ]
  }
 ],
 "metadata": {
  "language_info": {
   "name": "python"
  }
 },
 "nbformat": 4,
 "nbformat_minor": 5
}
