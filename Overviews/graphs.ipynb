{
 "cells": [
  {
   "cell_type": "markdown",
   "id": "1ae3552d",
   "metadata": {},
   "source": [
    "- Graph is any collection of nodes and connection between nodes \n",
    "    - Another term for nodes is **vertices**\n",
    "    - Connections between the nodes are called **edges**\n",
    "- [[Binary Trees]] is a graph with restrictions -- one parent with at most two children, directed edges (can't access parent from children)\n",
    "    - There must only be one connected component (all nodes are reachable from the root).\n",
    "- Edges of a node can either be **directed or undirected**. Directed edges mean that you can only traverse in one direction. If you're at node `A` and there is a directed edge to node `B`, you can move from `A -> B`, but once you're at `B` you can't move `B -> A`. In graphical representations, directed edges will be arrows between nodes. Undirected edges mean that you can traverse in both directions\n",
    "- **Indegree**: The number of edges that can be used to reach a node\n",
    "- **Outdegree**: The number of edges that can be used to leave the nodes\n",
    "- **Neighbors**: Nodes that are connected by an edge\n",
    "- In [[Binary Trees]], all nodes except the root had an indegree of 1 (due to their parent). All nodes have an outdegree of 0, 1, or 2. An outdegree of 0 means that it is a leaf. Specific to trees, we used the parent/child terms instead of \"neighbors\".\n",
    "- **Cyclic / aCyclic** -- whether or not there is path in edges that leads to visiting same nodes indefinitely\n",
    "    - [[Binary Trees]] by definition cannot have cycle\n",
    "- With binary trees, traversal was easy because at any given `node`, we only needed to reference `node.left` and `node.right`. This allowed us to focus only on the traversal (with DFS or BFS).\n",
    "\n",
    "- [[Graphs]] Input Formats\n",
    "    - 1.) Array of Edges: Each element of array will be in form [x, y] which indicates there is edge between x and y\n",
    "    - 2.) Adjacency List: nodes will be numbered from `0` to `n - 1`. The input will be a 2D integer array, let's call it `graph`. `graph[i]` will be a list of all the outgoing edges from the __i____t____h__ node.\n",
    "    - 3.) Adjacency Matrix: Nodes will be numbered from `0` to `n - 1`. You will be given a 2D matrix of size `n x n`, let's call it `graph`. If `graph[i][j] == 1`, that means there is an outgoing edge from node `i` to node `j`.\n",
    "        - ![](https://firebasestorage.googleapis.com/v0/b/firescript-577a2.appspot.com/o/imgs%2Fapp%2FMoose-Roam%2FV53-qyhPKP.png?alt=media&token=109ccad5-b0cd-43db-acb5-bc5b647f22fa)\n",
    "    - Implementation of DFS for graphs is similar to implementation for trees. Doing it recursively follows the same format: check for the base case, recursively call on all neighbors, do some logic to calculate the answer, and return the answer. You can also do it iteratively using a stack.\n",
    "    - In any undirected graph or a directed graph with cycles, implementing DFS the same way we did with binary trees will result in an infinite cycle (remember linked list cycles? Imagine having your code walk in a circle forever!). Like with trees, in most graph questions, we only need to (and want to) visit each node once. To prevent cycles and unnecessarily visiting a node more than once, we can use a set `seen`. Before we visit a node, we first check if the node is in `seen`. If it isn't, we add it to `seen` before visiting it. This allows us to only visit each node once in O(1)__O__(1) time because adding and checking for existence in a set takes constant time.\n",
    "    - This wasn't necessary with trees because we started at the root and the edges only moved \"down\" - once we left a node, there was no way to get back to it. With graphs, you could have a relationship like `A <-> B`, and move between `A` and `B` forever.\n",
    "\n",
    "\n",
    "- Nodes of a graph are also called **vertices**, and the pointers that connect them are called **edges**. In graphical representations, nodes/vertices are usually represented with circles and the edges are lines/arrows that connect the circles (we saw this in the linked lists chapter).\n",
    "- Recall that the start of a linked list was called the **head**. The start of a binary tree is called the **root**.\n",
    "- In a binary tree, all nodes have a **maximum** of two children.\n",
    "- If a node has no children, it is called a **leaf** node. The leaf nodes are the **leaves** of the tree.\n",
    "- The **depth** of a node is how far it is from the root node. The root has a depth of `0`. Every child has a depth of `parentsDepth + 1`, so the root's children have a depth of 1, their children have a depth of 2, and so on.\n",
    "- Structure for performing a DFS is very similar across all problems. It goes as follows:\n",
    "    1. Handle the base case(s). Usually, an empty tree (`node = null`) is a base case.\n",
    "    2. Do some logic for the current node\n",
    "    3. Recursively call on the current node's children\n",
    "    4. Return the answer\n",
    "- DFS Traversals\n",
    "    - The name of each traversal is describing when the current node's logic is performed.\n",
    "    - Pre -> before children\n",
    "    - In -> in the middle of children\n",
    "    - Post -> after children\n",
    "- [[Binary Search Trees]]\n",
    "    - A binary search tree (BST) is a type of binary tree. A BST has the following property:\n",
    "        - For each node, all values in its left subtree are less than the value in the node, and all values in its right subtree are greater than the value in the node\n",
    "        - This property also implies that values in a BST must be unique\n",
    "\n",
    "\n",
    "- [[Graphs]] BFS vs. DFS, Implicit\n",
    "    - In general, rare that DFS will perform better than BFS\n",
    "    - For problems where we're asked to find shortest path, BFS out performs **BFS visits nodes according to their distance from the root**\n",
    "    - BFS on a graph always visits nodes according to their distance from the **starting point**. This is the key idea behind BFS on graphs - **every time you visit a node**, you must have reached it in the minimum steps possible from wherever you started your BFS.\n",
    "    - Sometimes, a graph is more subtle. The input may look nothing like one of the formats we have talked about. Remember that a graph is any abstract collection of elements (nodes) connected by some abstract relationship (edges). If a problem involves transitioning between states, then try to think about if the states can be nodes and the transition criteria can be edges. Additionally, if the problem wants the shortest path or fewest operations etc., it is a great candidate for BFS.\n"
   ]
  },
  {
   "cell_type": "markdown",
   "id": "7e14e5f2",
   "metadata": {},
   "source": []
  }
 ],
 "metadata": {
  "language_info": {
   "name": "python"
  }
 },
 "nbformat": 4,
 "nbformat_minor": 5
}
