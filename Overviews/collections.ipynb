{
 "cells": [
  {
   "cell_type": "markdown",
   "id": "bbead44a",
   "metadata": {},
   "source": [
    "collections.Counter\n",
    "A Counter is a dictionary subclass used for counting hashable objects. It's perfect for tallying items in a list or string."
   ]
  },
  {
   "cell_type": "code",
   "execution_count": null,
   "id": "67b57b84",
   "metadata": {},
   "outputs": [],
   "source": [
    "from collections import Counter\n",
    "\n",
    "# Count occurrences of items in a list\n",
    "inventory = ['apple', 'orange', 'apple', 'banana', 'apple', 'orange']\n",
    "item_counts = Counter(inventory)\n",
    "\n",
    "print(item_counts)\n",
    "# Output: Counter({'apple': 3, 'orange': 2, 'banana': 1})\n",
    "\n",
    "# Access the count of a specific item\n",
    "print(f\"Number of apples: {item_counts['apple']}\")\n",
    "# Output: Number of apples: 3"
   ]
  },
  {
   "cell_type": "markdown",
   "id": "07c240e7",
   "metadata": {},
   "source": [
    "collections.deque\n",
    "A deque (pronounced \"deck\") stands for \"double-ended queue.\" It's optimized for adding and removing elements from both ends (left and right) quickly."
   ]
  },
  {
   "cell_type": "code",
   "execution_count": null,
   "id": "2caa6df2",
   "metadata": {},
   "outputs": [],
   "source": [
    "from collections import deque\n",
    "\n",
    "# Create a deque\n",
    "tasks = deque(['task1', 'task2', 'task3'])\n",
    "\n",
    "# Add an item to the right (end)\n",
    "tasks.append('task4') # ['task1', 'task2', 'task3', 'task4']\n",
    "\n",
    "# Add an item to the left (start)\n",
    "tasks.appendleft('task0') # ['task0', 'task1', 'task2', 'task3', 'task4']\n",
    "\n",
    "# Remove an item from the right\n",
    "tasks.pop() # 'task4' is removed\n",
    "\n",
    "# Remove an item from the left\n",
    "tasks.popleft() # 'task0' is removed\n",
    "\n",
    "print(tasks)\n",
    "# Output: deque(['task1', 'task2', 'task3'])"
   ]
  },
  {
   "cell_type": "markdown",
   "id": "00c8d36b",
   "metadata": {},
   "source": [
    "collections.defaultdict\n",
    "A defaultdict is a dictionary that provides a default value for a key that does not exist, preventing a KeyError. You specify the type of the default value (e.g., int, list, set) when creating it."
   ]
  },
  {
   "cell_type": "code",
   "execution_count": null,
   "id": "8182b0cb",
   "metadata": {},
   "outputs": [],
   "source": [
    "from collections import defaultdict\n",
    "\n",
    "# Group words by their first letter. The default value is an empty list.\n",
    "words = ['apple', 'ant', 'ball', 'bat', 'cat']\n",
    "grouped_words = defaultdict(list)\n",
    "\n",
    "for word in words:\n",
    "    first_letter = word[0]\n",
    "    grouped_words[first_letter].append(word)\n",
    "\n",
    "print(grouped_words['a'])\n",
    "# Output: ['apple', 'ant']\n",
    "\n",
    "print(grouped_words['b'])\n",
    "# Output: ['ball', 'bat']\n",
    "\n",
    "# Accessing a non-existent key creates it with the default value (empty list)\n",
    "print(grouped_words['z'])\n",
    "# Output: []"
   ]
  },
  {
   "cell_type": "markdown",
   "id": "971a6386",
   "metadata": {},
   "source": [
    "collections.namedtuple\n",
    "A namedtuple allows you to create tuple subclasses with named fields. This makes your code more readable by letting you access elements by name instead of just by index."
   ]
  },
  {
   "cell_type": "code",
   "execution_count": null,
   "id": "ed3d059b",
   "metadata": {},
   "outputs": [],
   "source": [
    "from collections import namedtuple\n",
    "\n",
    "# Define a 'Point' namedtuple with 'x' and 'y' fields\n",
    "Point = namedtuple('Point', ['x', 'y'])\n",
    "\n",
    "# Create an instance of the Point\n",
    "p1 = Point(x=10, y=20)\n",
    "\n",
    "# Access fields by name (more readable)\n",
    "print(f\"The x-coordinate is {p1.x}\")\n",
    "# Output: The x-coordinate is 10\n",
    "\n",
    "# Access fields by index (like a regular tuple)\n",
    "print(f\"The y-coordinate is {p1[1]}\")\n",
    "# Output: The y-coordinate is 20"
   ]
  },
  {
   "cell_type": "markdown",
   "id": "fa743a21",
   "metadata": {},
   "source": [
    "collections.ChainMap\n",
    "A ChainMap is used to group multiple dictionaries into a single, updatable view. It searches through the dictionaries in the order they are provided until a key is found."
   ]
  },
  {
   "cell_type": "code",
   "execution_count": null,
   "id": "3ae792a2",
   "metadata": {},
   "outputs": [],
   "source": [
    "from collections import ChainMap\n",
    "\n",
    "# Define user settings and default settings\n",
    "user_config = {'theme': 'dark', 'font_size': 12}\n",
    "default_config = {'theme': 'light', 'font_size': 10, 'language': 'en'}\n",
    "\n",
    "# Combine them into a ChainMap\n",
    "config = ChainMap(user_config, default_config)\n",
    "\n",
    "# Looks up 'theme' in user_config first and finds it\n",
    "print(config['theme'])\n",
    "# Output: dark\n",
    "\n",
    "# Looks up 'language' in user_config, doesn't find it, then finds it in default_config\n",
    "print(config['language'])\n",
    "# Output: en\n",
    "\n",
    "# You can add a new mapping to the first dictionary in the chain\n",
    "config['font_size'] = 14\n",
    "print(user_config)\n",
    "# Output: {'theme': 'dark', 'font_size': 14}"
   ]
  }
 ],
 "metadata": {
  "language_info": {
   "name": "python"
  }
 },
 "nbformat": 4,
 "nbformat_minor": 5
}
