{
 "cells": [
  {
   "cell_type": "markdown",
   "id": "305e4770",
   "metadata": {},
   "source": [
    "A greedy algorithm is any algorithm that makes the locally optimal decision at every step.\n",
    "\n",
    "Let's break this definition down. First, what makes a decision \"optimal\"? This will depend on the problem. For example, if we are choosing some elements and the problem wants us to find the maximum sum of elements we take, then given a choice between two numbers, it is optimal to take the larger one.\n",
    "\n",
    "Second, what makes a decision \"local\"? A decision is local when it considers only the available options at the current step. It is based on the information it has at the time, and doesn't consider any consequences that may happen in the future from this decision.\n",
    "\n",
    "Most greedy problems will be asking for the maximum or minimum of something, but not always."
   ]
  }
 ],
 "metadata": {
  "language_info": {
   "name": "python"
  }
 },
 "nbformat": 4,
 "nbformat_minor": 5
}
